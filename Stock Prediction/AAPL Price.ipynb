{
  "cells": [
    {
      "cell_type": "code",
      "execution_count": 1,
      "metadata": {
        "id": "T3ccTcbJbYTI",
        "colab": {
          "base_uri": "https://localhost:8080/"
        },
        "outputId": "83d542ed-3c5a-4d07-87d3-ebf5c0559247"
      },
      "outputs": [
        {
          "output_type": "stream",
          "name": "stdout",
          "text": [
            "Requirement already satisfied: pandas_datareader in /usr/local/lib/python3.7/dist-packages (0.10.0)\n",
            "Requirement already satisfied: requests>=2.19.0 in /usr/local/lib/python3.7/dist-packages (from pandas_datareader) (2.23.0)\n",
            "Requirement already satisfied: lxml in /usr/local/lib/python3.7/dist-packages (from pandas_datareader) (4.2.6)\n",
            "Requirement already satisfied: pandas>=0.23 in /usr/local/lib/python3.7/dist-packages (from pandas_datareader) (1.3.5)\n",
            "Requirement already satisfied: python-dateutil>=2.7.3 in /usr/local/lib/python3.7/dist-packages (from pandas>=0.23->pandas_datareader) (2.8.2)\n",
            "Requirement already satisfied: numpy>=1.17.3 in /usr/local/lib/python3.7/dist-packages (from pandas>=0.23->pandas_datareader) (1.21.5)\n",
            "Requirement already satisfied: pytz>=2017.3 in /usr/local/lib/python3.7/dist-packages (from pandas>=0.23->pandas_datareader) (2018.9)\n",
            "Requirement already satisfied: six>=1.5 in /usr/local/lib/python3.7/dist-packages (from python-dateutil>=2.7.3->pandas>=0.23->pandas_datareader) (1.15.0)\n",
            "Requirement already satisfied: urllib3!=1.25.0,!=1.25.1,<1.26,>=1.21.1 in /usr/local/lib/python3.7/dist-packages (from requests>=2.19.0->pandas_datareader) (1.24.3)\n",
            "Requirement already satisfied: idna<3,>=2.5 in /usr/local/lib/python3.7/dist-packages (from requests>=2.19.0->pandas_datareader) (2.10)\n",
            "Requirement already satisfied: chardet<4,>=3.0.2 in /usr/local/lib/python3.7/dist-packages (from requests>=2.19.0->pandas_datareader) (3.0.4)\n",
            "Requirement already satisfied: certifi>=2017.4.17 in /usr/local/lib/python3.7/dist-packages (from requests>=2.19.0->pandas_datareader) (2021.10.8)\n"
          ]
        }
      ],
      "source": [
        "!pip install --upgrade pandas_datareader\n",
        "import math\n",
        "import pandas_datareader as web\n",
        "import numpy as np\n",
        "import pandas as pd\n",
        "from sklearn.preprocessing import MinMaxScaler\n",
        "from keras.models import Sequential\n",
        "from keras.layers import Dense, LSTM\n",
        "import matplotlib.pyplot as plt\n",
        "plt.style.use('fivethirtyeight')\n",
        "\n",
        "\n"
      ]
    },
    {
      "cell_type": "code",
      "execution_count": 2,
      "metadata": {
        "colab": {
          "base_uri": "https://localhost:8080/"
        },
        "id": "kYoZqIMabYTQ",
        "outputId": "7c295d00-0429-4f40-fdf6-82c0a2f4143b"
      },
      "outputs": [
        {
          "output_type": "stream",
          "name": "stdout",
          "text": [
            "(1763, 6)\n",
            "1411\n"
          ]
        }
      ],
      "source": [
        "#Get the stock quote,\n",
        "\n",
        "df = web.DataReader('AAPL',data_source = 'yahoo', start='2015-01-01', end='2022-01-01')\n",
        "\n",
        "print(df.shape)\n",
        "\n",
        "# plt.figure(figsize=(16,8))\n",
        "# plt.title('Close Price History')\n",
        "# plt.plot(df['Close'])\n",
        "# plt.xlabel('Date',fontsize =18)\n",
        "# plt.ylabel('Close Price USD($)',fontsize = 18)\n",
        "# plt.show()\n",
        "\n",
        "#Create a new dataframe with the Close Column.\n",
        "\n",
        "data =df.filter(['Close'])\n",
        "\n",
        "#Convert the dataframe to numpy array \n",
        "\n",
        "dataset = data.values\n",
        "\n",
        "#Getting the number of rows to train the model\n",
        "\n",
        "training_data_len = math.ceil(len(dataset) * 0.8)\n",
        "\n",
        "print(training_data_len)\n",
        "\n",
        "\n"
      ]
    },
    {
      "cell_type": "code",
      "execution_count": 3,
      "metadata": {
        "colab": {
          "base_uri": "https://localhost:8080/"
        },
        "id": "v2glBM4IbYTS",
        "outputId": "0ef4c81b-b08d-4069-f9ba-2525c85598da"
      },
      "outputs": [
        {
          "output_type": "stream",
          "name": "stdout",
          "text": [
            "[array([0.03009605, 0.02521475, 0.0252306 , 0.02759201, 0.03415323,\n",
            "       0.03434341, 0.02996926, 0.03150655, 0.03084092, 0.02611811,\n",
            "       0.02480269, 0.0291293 , 0.03044472, 0.0349615 , 0.0358807 ,\n",
            "       0.03607088, 0.02979493, 0.03957336, 0.04526293, 0.04250532,\n",
            "       0.04483502, 0.04486672, 0.04630892, 0.04691116, 0.04531047,\n",
            "       0.0465625 , 0.05020761, 0.05474025, 0.05724429, 0.05822689,\n",
            "       0.05941552, 0.06082602, 0.06039811, 0.06206219, 0.06760912,\n",
            "       0.0662937 , 0.06093695, 0.06352024, 0.06041397, 0.06141241,\n",
            "       0.06184032, 0.06054074, 0.05716506, 0.05746617, 0.05832198,\n",
            "       0.05415386, 0.05055628, 0.05405877, 0.05269581, 0.05485118,\n",
            "       0.0581635 , 0.06042981, 0.05889252, 0.05635679, 0.05843292,\n",
            "       0.05760881, 0.05236299, 0.05372595, 0.05215697, 0.05710166])]\n",
            "[0.05402707435057527]\n",
            "\n",
            "[array([0.03009605, 0.02521475, 0.0252306 , 0.02759201, 0.03415323,\n",
            "       0.03434341, 0.02996926, 0.03150655, 0.03084092, 0.02611811,\n",
            "       0.02480269, 0.0291293 , 0.03044472, 0.0349615 , 0.0358807 ,\n",
            "       0.03607088, 0.02979493, 0.03957336, 0.04526293, 0.04250532,\n",
            "       0.04483502, 0.04486672, 0.04630892, 0.04691116, 0.04531047,\n",
            "       0.0465625 , 0.05020761, 0.05474025, 0.05724429, 0.05822689,\n",
            "       0.05941552, 0.06082602, 0.06039811, 0.06206219, 0.06760912,\n",
            "       0.0662937 , 0.06093695, 0.06352024, 0.06041397, 0.06141241,\n",
            "       0.06184032, 0.06054074, 0.05716506, 0.05746617, 0.05832198,\n",
            "       0.05415386, 0.05055628, 0.05405877, 0.05269581, 0.05485118,\n",
            "       0.0581635 , 0.06042981, 0.05889252, 0.05635679, 0.05843292,\n",
            "       0.05760881, 0.05236299, 0.05372595, 0.05215697, 0.05710166]), array([0.02521475, 0.0252306 , 0.02759201, 0.03415323, 0.03434341,\n",
            "       0.02996926, 0.03150655, 0.03084092, 0.02611811, 0.02480269,\n",
            "       0.0291293 , 0.03044472, 0.0349615 , 0.0358807 , 0.03607088,\n",
            "       0.02979493, 0.03957336, 0.04526293, 0.04250532, 0.04483502,\n",
            "       0.04486672, 0.04630892, 0.04691116, 0.04531047, 0.0465625 ,\n",
            "       0.05020761, 0.05474025, 0.05724429, 0.05822689, 0.05941552,\n",
            "       0.06082602, 0.06039811, 0.06206219, 0.06760912, 0.0662937 ,\n",
            "       0.06093695, 0.06352024, 0.06041397, 0.06141241, 0.06184032,\n",
            "       0.06054074, 0.05716506, 0.05746617, 0.05832198, 0.05415386,\n",
            "       0.05055628, 0.05405877, 0.05269581, 0.05485118, 0.0581635 ,\n",
            "       0.06042981, 0.05889252, 0.05635679, 0.05843292, 0.05760881,\n",
            "       0.05236299, 0.05372595, 0.05215697, 0.05710166, 0.05402707])]\n",
            "[0.05402707435057527, 0.05374180334033454]\n",
            "\n"
          ]
        }
      ],
      "source": [
        "#Scale the data \n",
        "\n",
        "scaler = MinMaxScaler(feature_range=(0,1))\n",
        "scaled_data = scaler.fit_transform(dataset)\n",
        "\n",
        "#Create the training data set\n",
        "\n",
        "#Creating the scaled data set\n",
        "\n",
        "train_data = scaled_data[0:training_data_len,:]\n",
        "\n",
        "#Split the data into x_train and y_train data set\n",
        "\n",
        "x_train = []\n",
        "y_train = []\n",
        "\n",
        "for i in range(60,len(train_data)):\n",
        "    x_train.append(train_data[i-60:i,0])\n",
        "    y_train.append(train_data[i,0])\n",
        "    if i<=61:\n",
        "        print(x_train)\n",
        "        print(y_train)\n",
        "        print()\n",
        "        \n",
        "#Convert X & Y train to numpy array to use LSTM Model.\n",
        "\n",
        "x_train, y_train = np.array(x_train), np.array(y_train)\n",
        "\n",
        "#Reshape the data as LSTM expects the data to be in 3-Dimensions\n",
        "# numper of samples, number of timesteps, and number of features, while right now it is 2-Dimensional\n",
        "\n",
        "    \n",
        "x_train = np.reshape(x_train,(x_train.shape[0],x_train.shape[1],1))\n",
        "\n",
        "# print(x_train.shape)\n",
        "\n"
      ]
    },
    {
      "cell_type": "code",
      "execution_count": 4,
      "metadata": {
        "id": "81HZWCHGbYTU"
      },
      "outputs": [],
      "source": [
        "#Building the LSTM Model\n",
        "\n",
        "model = Sequential()\n",
        "model.add(LSTM(50, return_sequences=True, input_shape=(x_train.shape[1],1)))\n",
        "model.add(LSTM(50,return_sequences=False ))\n",
        "model.add(Dense(25))\n",
        "model.add(Dense(1))"
      ]
    },
    {
      "cell_type": "code",
      "execution_count": 5,
      "metadata": {
        "id": "e8p95g7ybYTV"
      },
      "outputs": [],
      "source": [
        "#Compile the model\n",
        "model.compile(optimizer='adam',loss = 'mean_squared_error')"
      ]
    },
    {
      "cell_type": "code",
      "execution_count": 6,
      "metadata": {
        "colab": {
          "base_uri": "https://localhost:8080/"
        },
        "id": "zI8RFDepbYTW",
        "outputId": "6d0127dd-b4e4-43c3-c392-fbb09c21f78e"
      },
      "outputs": [
        {
          "output_type": "stream",
          "name": "stdout",
          "text": [
            "Epoch 1/10\n",
            "1351/1351 [==============================] - 52s 35ms/step - loss: 4.5504e-04\n",
            "Epoch 2/10\n",
            "1351/1351 [==============================] - 34s 25ms/step - loss: 2.3618e-04\n",
            "Epoch 3/10\n",
            "1351/1351 [==============================] - 34s 26ms/step - loss: 1.8936e-04\n",
            "Epoch 4/10\n",
            "1351/1351 [==============================] - 36s 27ms/step - loss: 2.0130e-04\n",
            "Epoch 5/10\n",
            "1351/1351 [==============================] - 34s 25ms/step - loss: 1.3630e-04\n",
            "Epoch 6/10\n",
            "1351/1351 [==============================] - 34s 25ms/step - loss: 1.3738e-04\n",
            "Epoch 7/10\n",
            "1351/1351 [==============================] - 35s 26ms/step - loss: 1.1120e-04\n",
            "Epoch 8/10\n",
            "1351/1351 [==============================] - 35s 26ms/step - loss: 1.1278e-04\n",
            "Epoch 9/10\n",
            "1351/1351 [==============================] - 34s 25ms/step - loss: 1.2971e-04\n",
            "Epoch 10/10\n",
            "1351/1351 [==============================] - 35s 26ms/step - loss: 1.1478e-04\n"
          ]
        },
        {
          "output_type": "execute_result",
          "data": {
            "text/plain": [
              "<keras.callbacks.History at 0x7f8c7a72c410>"
            ]
          },
          "metadata": {},
          "execution_count": 6
        }
      ],
      "source": [
        "#training the model\n",
        "\n",
        "model.fit(x_train,y_train,batch_size=1,epochs=10)    #fit a method to train the model.\n"
      ]
    },
    {
      "cell_type": "code",
      "execution_count": 7,
      "metadata": {
        "id": "f8UYXO3obYTX"
      },
      "outputs": [],
      "source": [
        "#Create the testing dataset\n",
        "\n",
        "#Create a new array containing scaled values from index 1351 to the end of the data set\n",
        "\n",
        "test_data = scaled_data[training_data_len - 60:, :]\n",
        "\n",
        "x_test = []\n",
        "y_test = dataset[training_data_len:, :]\n",
        "\n",
        "for i in range(60, len(test_data)):\n",
        "    x_test.append(test_data[i-60:i,0])\n",
        "    "
      ]
    },
    {
      "cell_type": "code",
      "execution_count": 8,
      "metadata": {
        "id": "pnFkeeiCbYTZ"
      },
      "outputs": [],
      "source": [
        "#Convert the data again to a numpy array \n",
        "\n",
        "x_test = np.array(x_test)"
      ]
    },
    {
      "cell_type": "code",
      "execution_count": 9,
      "metadata": {
        "id": "8iNPkXBIbYTa"
      },
      "outputs": [],
      "source": [
        "#Reshape again to use in the LSTM Model again for 3D inputs.\n",
        "\n",
        "x_test = np.reshape(x_test, (x_test.shape[0], x_test.shape[1], 1))\n"
      ]
    },
    {
      "cell_type": "code",
      "execution_count": 10,
      "metadata": {
        "id": "YSsAzcETbYTb"
      },
      "outputs": [],
      "source": [
        "#Get the models predicted price values\n",
        "predictions = model.predict(x_test)\n",
        "predictions = scaler.inverse_transform(predictions)\n"
      ]
    },
    {
      "cell_type": "code",
      "execution_count": 11,
      "metadata": {
        "colab": {
          "base_uri": "https://localhost:8080/"
        },
        "id": "TLi7ssjwbYTc",
        "outputId": "f10111df-3afd-4301-d20a-185bf208a689"
      },
      "outputs": [
        {
          "output_type": "stream",
          "name": "stdout",
          "text": [
            "The Root Mean Squared Error(RMSE) was = 1.326531475240534 \n"
          ]
        }
      ],
      "source": [
        "#Get the Root Mean Squared Error (RMSE) - tells the accuracy of the model, using standard deviation,\n",
        "# a lower value means a better fit.\n",
        "# a value of zero would mean the prediction is perfect.\n",
        "\n",
        "rmse = np.sqrt(np.mean(predictions-y_test)**2)\n",
        "print(\"The Root Mean Squared Error(RMSE) was = {rmse} \".format(rmse = rmse) ) "
      ]
    },
    {
      "cell_type": "code",
      "execution_count": 12,
      "metadata": {
        "colab": {
          "base_uri": "https://localhost:8080/"
        },
        "id": "vCfGM33AbYTc",
        "outputId": "abca1bef-72e3-4426-d5d5-c1b2dc57677d"
      },
      "outputs": [
        {
          "output_type": "stream",
          "name": "stderr",
          "text": [
            "/usr/local/lib/python3.7/dist-packages/ipykernel_launcher.py:4: SettingWithCopyWarning: \n",
            "A value is trying to be set on a copy of a slice from a DataFrame.\n",
            "Try using .loc[row_indexer,col_indexer] = value instead\n",
            "\n",
            "See the caveats in the documentation: https://pandas.pydata.org/pandas-docs/stable/user_guide/indexing.html#returning-a-view-versus-a-copy\n",
            "  after removing the cwd from sys.path.\n"
          ]
        }
      ],
      "source": [
        "#Plot the data \n",
        "train = data[:training_data_len]\n",
        "valid = data[training_data_len:]\n",
        "valid['Predictions'] = predictions\n"
      ]
    },
    {
      "cell_type": "code",
      "execution_count": 13,
      "metadata": {
        "colab": {
          "base_uri": "https://localhost:8080/",
          "height": 518
        },
        "id": "-SfkyCPVbYTd",
        "outputId": "6da22edf-dfe6-4fa5-b305-f1bb0714b4fb"
      },
      "outputs": [
        {
          "output_type": "display_data",
          "data": {
            "text/plain": [
              "<Figure size 1152x576 with 1 Axes>"
            ],
            "image/png": "[encoded data removed]"
          },
          "metadata": {
            "needs_background": "light"
          }
        }
      ],
      "source": [
        "#visualize the data\n",
        "\n",
        "plt.figure(figsize=(16,8))\n",
        "plt.title('LSTM Model Prediction (AAPL)')\n",
        "plt.xlabel('Date',fontsize=18)\n",
        "plt.ylabel('Close Price USD($)',fontsize=18)\n",
        "plt.plot(train['Close'])\n",
        "plt.plot(valid[['Close','Predictions']])\n",
        "plt.legend(['Train', 'Val', 'Predictions'], loc='lower right')\n",
        "plt.show()"
      ]
    },
    {
      "cell_type": "code",
      "source": [
        "#Show the valid and predicted prices\n",
        "print(valid)"
      ],
      "metadata": {
        "colab": {
          "base_uri": "https://localhost:8080/"
        },
        "id": "SbWPWYbP0yY9",
        "outputId": "391d6e8d-2c70-4c8a-8314-92fc52550883"
      },
      "execution_count": 14,
      "outputs": [
        {
          "output_type": "stream",
          "name": "stdout",
          "text": [
            "                 Close  Predictions\n",
            "Date                               \n",
            "2020-08-11  109.375000   113.451706\n",
            "2020-08-12  113.010002   110.913834\n",
            "2020-08-13  115.010002   113.555855\n",
            "2020-08-14  114.907501   116.368202\n",
            "2020-08-17  114.607498   116.696976\n",
            "...                ...          ...\n",
            "2021-12-27  180.330002   178.095337\n",
            "2021-12-28  179.289993   181.472488\n",
            "2021-12-29  179.380005   180.693069\n",
            "2021-12-30  178.199997   180.150467\n",
            "2021-12-31  177.570007   178.993164\n",
            "\n",
            "[352 rows x 2 columns]\n"
          ]
        }
      ]
    },
    {
      "cell_type": "code",
      "source": [
        "#Get the quote\n",
        "apple_quote = web.DataReader('AAPL', data_source='yahoo', start = '2015-01-01',end='2022-03-07')\n",
        "new_df = apple_quote.filter(['Close'])\n",
        "#Get the last 60 day closing value and convert the dataframe to an array\n",
        "last_60_days = new_df[-60:].values\n",
        "#Scale the data to be between 0 and 1\n",
        "last_60_days_scaled = scaler.transform(last_60_days)\n",
        "\n",
        "#Create an empty list\n",
        "X_test = []\n",
        "\n",
        "#Append the past 60 days\n",
        "X_test.append(last_60_days_scaled)\n",
        "\n",
        "#Convert the X_test data to a numpy array.\n",
        "X_test = np.array(X_test)\n",
        "\n",
        "#Reshape the data again\n",
        "X_test = np.reshape(X_test,(X_test.shape[0],X_test.shape[1],1))\n",
        "\n",
        "#Get the predicted scaled price \n",
        "pred_price = model.predict(X_test)\n",
        "\n",
        "#Undo the Scaling\n",
        "pred_price = scaler.inverse_transform(pred_price)\n",
        "print(pred_price)\n"
      ],
      "metadata": {
        "colab": {
          "base_uri": "https://localhost:8080/"
        },
        "id": "F-5UlF3J1FCR",
        "outputId": "fb887373-3fc5-4b16-ac03-08c65fb8a968"
      },
      "execution_count": 15,
      "outputs": [
        {
          "output_type": "stream",
          "name": "stdout",
          "text": [
            "[[160.47377]]\n"
          ]
        }
      ]
    },
    {
      "cell_type": "code",
      "source": [
        "apple_quote2 = web.DataReader('AAPL', data_source='yahoo', start = '2022-03-08',end='2022-03-08')\n",
        "print(apple_quote2['Close'])  "
      ],
      "metadata": {
        "colab": {
          "base_uri": "https://localhost:8080/"
        },
        "id": "yizDpBU_QKPr",
        "outputId": "3c41b1c1-78c7-4e18-95b1-ce65016b18f4"
      },
      "execution_count": 16,
      "outputs": [
        {
          "output_type": "stream",
          "name": "stdout",
          "text": [
            "Date\n",
            "2022-03-08    157.440002\n",
            "Name: Close, dtype: float64\n"
          ]
        }
      ]
    },
    {
      "cell_type": "code",
      "source": [
        "print('The predicted price of the stock is = {}'.format(pred_price))\n",
        "print('The actual price of the stock is = {}'.format(apple_quote2['Close']))"
      ],
      "metadata": {
        "id": "BTHf4nT0Qcwa",
        "colab": {
          "base_uri": "https://localhost:8080/"
        },
        "outputId": "2769ac05-ecbc-465d-dc7c-5fafc50cbb34"
      },
      "execution_count": 30,
      "outputs": [
        {
          "output_type": "stream",
          "name": "stdout",
          "text": [
            "The predicted price of the stock is = [[160.47377]]\n",
            "The actual price of the stock is = Date\n",
            "2022-03-08    157.440002\n",
            "Name: Close, dtype: float64\n"
          ]
        }
      ]
    },
    {
      "cell_type": "code",
      "source": [
        ""
      ],
      "metadata": {
        "id": "pfcG5js4XqME"
      },
      "execution_count": null,
      "outputs": []
    }
  ],
  "metadata": {
    "kernelspec": {
      "display_name": "Python 3",
      "language": "python",
      "name": "python3"
    },
    "language_info": {
      "codemirror_mode": {
        "name": "ipython",
        "version": 3
      },
      "file_extension": ".py",
      "mimetype": "text/x-python",
      "name": "python",
      "nbconvert_exporter": "python",
      "pygments_lexer": "ipython3",
      "version": "3.8.3"
    },
    "colab": {
      "name": "SPP.ipynb",
      "provenance": [],
      "collapsed_sections": []
    }
  },
  "nbformat": 4,
  "nbformat_minor": 0
}